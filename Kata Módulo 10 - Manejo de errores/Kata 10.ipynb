{
 "cells": [
  {
   "cell_type": "markdown",
   "metadata": {},
   "source": [
    "# Ejercicios de la Kata 10"
   ]
  },
  {
   "cell_type": "markdown",
   "metadata": {},
   "source": [
    "## Tracebacks"
   ]
  },
  {
   "cell_type": "code",
   "execution_count": 1,
   "metadata": {},
   "outputs": [
    {
     "ename": "FileNotFoundError",
     "evalue": "[Errno 2] No such file or directory: '/path/to/mars.jpg'",
     "output_type": "error",
     "traceback": [
      "\u001b[1;31m---------------------------------------------------------------------------\u001b[0m",
      "\u001b[1;31mFileNotFoundError\u001b[0m                         Traceback (most recent call last)",
      "\u001b[1;32mc:\\Users\\lvazquez\\Documents\\Repo_Cursos\\CursoIntroPython_portfolio\\Kata Módulo 10 - Manejo de errores\\Kata 10.ipynb Cell 2'\u001b[0m in \u001b[0;36m<module>\u001b[1;34m\u001b[0m\n\u001b[0;32m      <a href='vscode-notebook-cell:/c%3A/Users/lvazquez/Documents/Repo_Cursos/CursoIntroPython_portfolio/Kata%20M%C3%B3dulo%2010%20-%20Manejo%20de%20errores/Kata%2010.ipynb#ch0000002?line=1'>2</a>\u001b[0m     \u001b[39mopen\u001b[39m(\u001b[39m\"\u001b[39m\u001b[39m/path/to/mars.jpg\u001b[39m\u001b[39m\"\u001b[39m)\n\u001b[0;32m      <a href='vscode-notebook-cell:/c%3A/Users/lvazquez/Documents/Repo_Cursos/CursoIntroPython_portfolio/Kata%20M%C3%B3dulo%2010%20-%20Manejo%20de%20errores/Kata%2010.ipynb#ch0000002?line=3'>4</a>\u001b[0m \u001b[39mif\u001b[39;00m \u001b[39m__name__\u001b[39m \u001b[39m==\u001b[39m \u001b[39m'\u001b[39m\u001b[39m__main__\u001b[39m\u001b[39m'\u001b[39m:\n\u001b[1;32m----> <a href='vscode-notebook-cell:/c%3A/Users/lvazquez/Documents/Repo_Cursos/CursoIntroPython_portfolio/Kata%20M%C3%B3dulo%2010%20-%20Manejo%20de%20errores/Kata%2010.ipynb#ch0000002?line=4'>5</a>\u001b[0m     main()\n",
      "\u001b[1;32mc:\\Users\\lvazquez\\Documents\\Repo_Cursos\\CursoIntroPython_portfolio\\Kata Módulo 10 - Manejo de errores\\Kata 10.ipynb Cell 2'\u001b[0m in \u001b[0;36mmain\u001b[1;34m()\u001b[0m\n\u001b[0;32m      <a href='vscode-notebook-cell:/c%3A/Users/lvazquez/Documents/Repo_Cursos/CursoIntroPython_portfolio/Kata%20M%C3%B3dulo%2010%20-%20Manejo%20de%20errores/Kata%2010.ipynb#ch0000002?line=0'>1</a>\u001b[0m \u001b[39mdef\u001b[39;00m \u001b[39mmain\u001b[39m():\n\u001b[1;32m----> <a href='vscode-notebook-cell:/c%3A/Users/lvazquez/Documents/Repo_Cursos/CursoIntroPython_portfolio/Kata%20M%C3%B3dulo%2010%20-%20Manejo%20de%20errores/Kata%2010.ipynb#ch0000002?line=1'>2</a>\u001b[0m     \u001b[39mopen\u001b[39;49m(\u001b[39m\"\u001b[39;49m\u001b[39m/path/to/mars.jpg\u001b[39;49m\u001b[39m\"\u001b[39;49m)\n",
      "\u001b[1;31mFileNotFoundError\u001b[0m: [Errno 2] No such file or directory: '/path/to/mars.jpg'"
     ]
    }
   ],
   "source": [
    "# Función que devuelve un error de archivo inexistente\n",
    "def main():\n",
    "    open(\"/path/to/mars.jpg\")\n",
    "\n",
    "if __name__ == '__main__':\n",
    "    main()"
   ]
  },
  {
   "cell_type": "markdown",
   "metadata": {},
   "source": [
    "## Try y except de los bloques"
   ]
  },
  {
   "cell_type": "code",
   "execution_count": 2,
   "metadata": {},
   "outputs": [
    {
     "name": "stdout",
     "output_type": "stream",
     "text": [
      "Couldn't find the config.txt file!\n"
     ]
    }
   ],
   "source": [
    "try:\n",
    "    open('config.txt')\n",
    "except FileNotFoundError:\n",
    "    print(\"Couldn't find the config.txt file!\")"
   ]
  },
  {
   "cell_type": "code",
   "execution_count": 5,
   "metadata": {},
   "outputs": [
    {
     "ename": "PermissionError",
     "evalue": "[Errno 13] Permission denied: 'config.txt'",
     "output_type": "error",
     "traceback": [
      "\u001b[1;31m---------------------------------------------------------------------------\u001b[0m",
      "\u001b[1;31mPermissionError\u001b[0m                           Traceback (most recent call last)",
      "\u001b[1;32mc:\\Users\\lvazquez\\Documents\\Repo_Cursos\\CursoIntroPython_portfolio\\Kata Módulo 10 - Manejo de errores\\Kata 10.ipynb Cell 6'\u001b[0m in \u001b[0;36m<module>\u001b[1;34m\u001b[0m\n\u001b[0;32m      <a href='vscode-notebook-cell:/c%3A/Users/lvazquez/Documents/Repo_Cursos/CursoIntroPython_portfolio/Kata%20M%C3%B3dulo%2010%20-%20Manejo%20de%20errores/Kata%2010.ipynb#ch0000006?line=4'>5</a>\u001b[0m         \u001b[39mprint\u001b[39m(\u001b[39m\"\u001b[39m\u001b[39mCouldn\u001b[39m\u001b[39m'\u001b[39m\u001b[39mt find the config.txt file!\u001b[39m\u001b[39m\"\u001b[39m)\n\u001b[0;32m      <a href='vscode-notebook-cell:/c%3A/Users/lvazquez/Documents/Repo_Cursos/CursoIntroPython_portfolio/Kata%20M%C3%B3dulo%2010%20-%20Manejo%20de%20errores/Kata%2010.ipynb#ch0000006?line=6'>7</a>\u001b[0m \u001b[39mif\u001b[39;00m \u001b[39m__name__\u001b[39m \u001b[39m==\u001b[39m \u001b[39m'\u001b[39m\u001b[39m__main__\u001b[39m\u001b[39m'\u001b[39m:\n\u001b[1;32m----> <a href='vscode-notebook-cell:/c%3A/Users/lvazquez/Documents/Repo_Cursos/CursoIntroPython_portfolio/Kata%20M%C3%B3dulo%2010%20-%20Manejo%20de%20errores/Kata%2010.ipynb#ch0000006?line=7'>8</a>\u001b[0m     main()\n",
      "\u001b[1;32mc:\\Users\\lvazquez\\Documents\\Repo_Cursos\\CursoIntroPython_portfolio\\Kata Módulo 10 - Manejo de errores\\Kata 10.ipynb Cell 6'\u001b[0m in \u001b[0;36mmain\u001b[1;34m()\u001b[0m\n\u001b[0;32m      <a href='vscode-notebook-cell:/c%3A/Users/lvazquez/Documents/Repo_Cursos/CursoIntroPython_portfolio/Kata%20M%C3%B3dulo%2010%20-%20Manejo%20de%20errores/Kata%2010.ipynb#ch0000006?line=0'>1</a>\u001b[0m \u001b[39mdef\u001b[39;00m \u001b[39mmain\u001b[39m():\n\u001b[0;32m      <a href='vscode-notebook-cell:/c%3A/Users/lvazquez/Documents/Repo_Cursos/CursoIntroPython_portfolio/Kata%20M%C3%B3dulo%2010%20-%20Manejo%20de%20errores/Kata%2010.ipynb#ch0000006?line=1'>2</a>\u001b[0m     \u001b[39mtry\u001b[39;00m:\n\u001b[1;32m----> <a href='vscode-notebook-cell:/c%3A/Users/lvazquez/Documents/Repo_Cursos/CursoIntroPython_portfolio/Kata%20M%C3%B3dulo%2010%20-%20Manejo%20de%20errores/Kata%2010.ipynb#ch0000006?line=2'>3</a>\u001b[0m         configuration \u001b[39m=\u001b[39m \u001b[39mopen\u001b[39;49m(\u001b[39m'\u001b[39;49m\u001b[39mconfig.txt\u001b[39;49m\u001b[39m'\u001b[39;49m)\n\u001b[0;32m      <a href='vscode-notebook-cell:/c%3A/Users/lvazquez/Documents/Repo_Cursos/CursoIntroPython_portfolio/Kata%20M%C3%B3dulo%2010%20-%20Manejo%20de%20errores/Kata%2010.ipynb#ch0000006?line=3'>4</a>\u001b[0m     \u001b[39mexcept\u001b[39;00m \u001b[39mFileNotFoundError\u001b[39;00m:\n\u001b[0;32m      <a href='vscode-notebook-cell:/c%3A/Users/lvazquez/Documents/Repo_Cursos/CursoIntroPython_portfolio/Kata%20M%C3%B3dulo%2010%20-%20Manejo%20de%20errores/Kata%2010.ipynb#ch0000006?line=4'>5</a>\u001b[0m         \u001b[39mprint\u001b[39m(\u001b[39m\"\u001b[39m\u001b[39mCouldn\u001b[39m\u001b[39m'\u001b[39m\u001b[39mt find the config.txt file!\u001b[39m\u001b[39m\"\u001b[39m)\n",
      "\u001b[1;31mPermissionError\u001b[0m: [Errno 13] Permission denied: 'config.txt'"
     ]
    }
   ],
   "source": [
    "def main():\n",
    "    try:\n",
    "        configuration = open('config.txt')\n",
    "    except FileNotFoundError:\n",
    "        print(\"Couldn't find the config.txt file!\")\n",
    "\n",
    "if __name__ == '__main__':\n",
    "    main()"
   ]
  },
  {
   "cell_type": "code",
   "execution_count": 6,
   "metadata": {},
   "outputs": [
    {
     "name": "stdout",
     "output_type": "stream",
     "text": [
      "Couldn't find the config.txt file!\n"
     ]
    }
   ],
   "source": [
    "#Detectar todos los posibles errores\n",
    "def main():\n",
    "    try:\n",
    "        configuration = open('config.txt')\n",
    "    except Exception:\n",
    "        print(\"Couldn't find the config.txt file!\")\n",
    "\n",
    "if __name__ == '__main__':\n",
    "    main()"
   ]
  },
  {
   "cell_type": "code",
   "execution_count": 8,
   "metadata": {},
   "outputs": [
    {
     "name": "stdout",
     "output_type": "stream",
     "text": [
      "Found config.txt but it is a directory, couldn't read it\n"
     ]
    }
   ],
   "source": [
    "#Detectar adicionalmente errores de permiso\n",
    "def main():\n",
    "    try:\n",
    "        configuration = open('config.txt')\n",
    "    except FileNotFoundError:\n",
    "        print(\"Couldn't find the config.txt file!\")\n",
    "    except PermissionError:\n",
    "        print(\"Found config.txt but it is a directory, couldn't read it\")\n",
    "\n",
    "if __name__ == '__main__':\n",
    "    main()"
   ]
  },
  {
   "cell_type": "code",
   "execution_count": 9,
   "metadata": {},
   "outputs": [
    {
     "name": "stdout",
     "output_type": "stream",
     "text": [
      "Couldn't find the config.txt file!\n"
     ]
    }
   ],
   "source": [
    "#Eliminar folder txt\n",
    "def main():\n",
    "    try:\n",
    "        configuration = open('config.txt')\n",
    "    except FileNotFoundError:\n",
    "        print(\"Couldn't find the config.txt file!\")\n",
    "    except PermissionError:\n",
    "        print(\"Found config.txt but it is a directory, couldn't read it\")\n",
    "\n",
    "if __name__ == '__main__':\n",
    "    main()"
   ]
  },
  {
   "cell_type": "code",
   "execution_count": 10,
   "metadata": {},
   "outputs": [],
   "source": [
    "def main():\n",
    "    try:\n",
    "        configuration = open('config.txt')\n",
    "    except FileNotFoundError:\n",
    "        print(\"Couldn't find the config.txt file!\")\n",
    "    except IsADirectoryError:\n",
    "        print(\"Found config.txt but it is a directory, couldn't read it\")\n",
    "    except (BlockingIOError, TimeoutError):\n",
    "        print(\"Filesystem under heavy load, can't complete reading configuration file\")"
   ]
  },
  {
   "cell_type": "code",
   "execution_count": 11,
   "metadata": {},
   "outputs": [
    {
     "name": "stdout",
     "output_type": "stream",
     "text": [
      "got a problem trying to read the file: [Errno 2] No such file or directory: 'mars.jpg'\n"
     ]
    }
   ],
   "source": [
    "# Acceder al error asociado a la excepción\n",
    "try:\n",
    "    open(\"mars.jpg\")\n",
    "except FileNotFoundError as err:\n",
    "    print(\"got a problem trying to read the file:\", err)\n"
   ]
  },
  {
   "cell_type": "code",
   "execution_count": 12,
   "metadata": {},
   "outputs": [
    {
     "name": "stdout",
     "output_type": "stream",
     "text": [
      "Couldn't find the config.txt file!\n"
     ]
    }
   ],
   "source": [
    "#Acceder a los atributos del error\n",
    "try:\n",
    "    open(\"config.txt\")\n",
    "except OSError as err:\n",
    "    if err.errno == 2:\n",
    "        print(\"Couldn't find the config.txt file!\")\n",
    "    elif err.errno == 13:\n",
    "        print(\"Found config.txt but couldn't read it\")"
   ]
  },
  {
   "cell_type": "markdown",
   "metadata": {},
   "source": [
    "## Generación de excepciones"
   ]
  },
  {
   "cell_type": "code",
   "execution_count": 13,
   "metadata": {},
   "outputs": [],
   "source": [
    "# Calcular la cantidad de agua quedará después de un día o más\n",
    "def water_left(astronauts, water_left, days_left):\n",
    "    daily_usage = astronauts * 11\n",
    "    total_usage = daily_usage * days_left\n",
    "    total_water_left = water_left - total_usage\n",
    "    return f\"Total water left after {days_left} days is: {total_water_left} liters\""
   ]
  },
  {
   "cell_type": "code",
   "execution_count": 14,
   "metadata": {},
   "outputs": [
    {
     "data": {
      "text/plain": [
       "'Total water left after 2 days is: -10 liters'"
      ]
     },
     "execution_count": 14,
     "metadata": {},
     "output_type": "execute_result"
    }
   ],
   "source": [
    "# Cinco astronautas, 100 litros de agua sobrante y dos días:\n",
    "water_left(5, 100, 2)"
   ]
  },
  {
   "cell_type": "code",
   "execution_count": 15,
   "metadata": {},
   "outputs": [],
   "source": [
    "#Generar excepción en la función\n",
    "def water_left(astronauts, water_left, days_left):\n",
    "    daily_usage = astronauts * 11\n",
    "    total_usage = daily_usage * days_left\n",
    "    total_water_left = water_left - total_usage\n",
    "    if total_water_left < 0:\n",
    "        raise RuntimeError(f\"There is not enough water for {astronauts} astronauts after {days_left} days!\")\n",
    "    return f\"Total water left after {days_left} days is: {total_water_left} liters\""
   ]
  },
  {
   "cell_type": "code",
   "execution_count": 16,
   "metadata": {},
   "outputs": [
    {
     "ename": "RuntimeError",
     "evalue": "There is not enough water for 5 astronauts after 2 days!",
     "output_type": "error",
     "traceback": [
      "\u001b[1;31m---------------------------------------------------------------------------\u001b[0m",
      "\u001b[1;31mRuntimeError\u001b[0m                              Traceback (most recent call last)",
      "\u001b[1;32mc:\\Users\\lvazquez\\Documents\\Repo_Cursos\\CursoIntroPython_portfolio\\Kata Módulo 10 - Manejo de errores\\Kata 10.ipynb Cell 17'\u001b[0m in \u001b[0;36m<module>\u001b[1;34m\u001b[0m\n\u001b[1;32m----> <a href='vscode-notebook-cell:/c%3A/Users/lvazquez/Documents/Repo_Cursos/CursoIntroPython_portfolio/Kata%20M%C3%B3dulo%2010%20-%20Manejo%20de%20errores/Kata%2010.ipynb#ch0000018?line=0'>1</a>\u001b[0m water_left(\u001b[39m5\u001b[39;49m, \u001b[39m100\u001b[39;49m, \u001b[39m2\u001b[39;49m)\n",
      "\u001b[1;32mc:\\Users\\lvazquez\\Documents\\Repo_Cursos\\CursoIntroPython_portfolio\\Kata Módulo 10 - Manejo de errores\\Kata 10.ipynb Cell 16'\u001b[0m in \u001b[0;36mwater_left\u001b[1;34m(astronauts, water_left, days_left)\u001b[0m\n\u001b[0;32m      <a href='vscode-notebook-cell:/c%3A/Users/lvazquez/Documents/Repo_Cursos/CursoIntroPython_portfolio/Kata%20M%C3%B3dulo%2010%20-%20Manejo%20de%20errores/Kata%2010.ipynb#ch0000016?line=4'>5</a>\u001b[0m total_water_left \u001b[39m=\u001b[39m water_left \u001b[39m-\u001b[39m total_usage\n\u001b[0;32m      <a href='vscode-notebook-cell:/c%3A/Users/lvazquez/Documents/Repo_Cursos/CursoIntroPython_portfolio/Kata%20M%C3%B3dulo%2010%20-%20Manejo%20de%20errores/Kata%2010.ipynb#ch0000016?line=5'>6</a>\u001b[0m \u001b[39mif\u001b[39;00m total_water_left \u001b[39m<\u001b[39m \u001b[39m0\u001b[39m:\n\u001b[1;32m----> <a href='vscode-notebook-cell:/c%3A/Users/lvazquez/Documents/Repo_Cursos/CursoIntroPython_portfolio/Kata%20M%C3%B3dulo%2010%20-%20Manejo%20de%20errores/Kata%2010.ipynb#ch0000016?line=6'>7</a>\u001b[0m     \u001b[39mraise\u001b[39;00m \u001b[39mRuntimeError\u001b[39;00m(\u001b[39mf\u001b[39m\u001b[39m\"\u001b[39m\u001b[39mThere is not enough water for \u001b[39m\u001b[39m{\u001b[39;00mastronauts\u001b[39m}\u001b[39;00m\u001b[39m astronauts after \u001b[39m\u001b[39m{\u001b[39;00mdays_left\u001b[39m}\u001b[39;00m\u001b[39m days!\u001b[39m\u001b[39m\"\u001b[39m)\n\u001b[0;32m      <a href='vscode-notebook-cell:/c%3A/Users/lvazquez/Documents/Repo_Cursos/CursoIntroPython_portfolio/Kata%20M%C3%B3dulo%2010%20-%20Manejo%20de%20errores/Kata%2010.ipynb#ch0000016?line=7'>8</a>\u001b[0m \u001b[39mreturn\u001b[39;00m \u001b[39mf\u001b[39m\u001b[39m\"\u001b[39m\u001b[39mTotal water left after \u001b[39m\u001b[39m{\u001b[39;00mdays_left\u001b[39m}\u001b[39;00m\u001b[39m days is: \u001b[39m\u001b[39m{\u001b[39;00mtotal_water_left\u001b[39m}\u001b[39;00m\u001b[39m liters\u001b[39m\u001b[39m\"\u001b[39m\n",
      "\u001b[1;31mRuntimeError\u001b[0m: There is not enough water for 5 astronauts after 2 days!"
     ]
    }
   ],
   "source": [
    "water_left(5, 100, 2)"
   ]
  },
  {
   "cell_type": "code",
   "execution_count": 19,
   "metadata": {},
   "outputs": [
    {
     "ename": "TypeError",
     "evalue": "can't multiply sequence by non-int of type 'NoneType'",
     "output_type": "error",
     "traceback": [
      "\u001b[1;31m---------------------------------------------------------------------------\u001b[0m",
      "\u001b[1;31mTypeError\u001b[0m                                 Traceback (most recent call last)",
      "\u001b[1;32mc:\\Users\\lvazquez\\Documents\\Repo_Cursos\\CursoIntroPython_portfolio\\Kata Módulo 10 - Manejo de errores\\Kata 10.ipynb Cell 18'\u001b[0m in \u001b[0;36m<module>\u001b[1;34m\u001b[0m\n\u001b[0;32m      <a href='vscode-notebook-cell:/c%3A/Users/lvazquez/Documents/Repo_Cursos/CursoIntroPython_portfolio/Kata%20M%C3%B3dulo%2010%20-%20Manejo%20de%20errores/Kata%2010.ipynb#ch0000019?line=0'>1</a>\u001b[0m \u001b[39m# Probar con tipos de datos no permitidos\u001b[39;00m\n\u001b[1;32m----> <a href='vscode-notebook-cell:/c%3A/Users/lvazquez/Documents/Repo_Cursos/CursoIntroPython_portfolio/Kata%20M%C3%B3dulo%2010%20-%20Manejo%20de%20errores/Kata%2010.ipynb#ch0000019?line=1'>2</a>\u001b[0m water_left(\u001b[39m\"\u001b[39;49m\u001b[39m5\u001b[39;49m\u001b[39m\"\u001b[39;49m, \u001b[39m\"\u001b[39;49m\u001b[39m100\u001b[39;49m\u001b[39m\"\u001b[39;49m, \u001b[39mNone\u001b[39;49;00m)\n",
      "\u001b[1;32mc:\\Users\\lvazquez\\Documents\\Repo_Cursos\\CursoIntroPython_portfolio\\Kata Módulo 10 - Manejo de errores\\Kata 10.ipynb Cell 16'\u001b[0m in \u001b[0;36mwater_left\u001b[1;34m(astronauts, water_left, days_left)\u001b[0m\n\u001b[0;32m      <a href='vscode-notebook-cell:/c%3A/Users/lvazquez/Documents/Repo_Cursos/CursoIntroPython_portfolio/Kata%20M%C3%B3dulo%2010%20-%20Manejo%20de%20errores/Kata%2010.ipynb#ch0000016?line=1'>2</a>\u001b[0m \u001b[39mdef\u001b[39;00m \u001b[39mwater_left\u001b[39m(astronauts, water_left, days_left):\n\u001b[0;32m      <a href='vscode-notebook-cell:/c%3A/Users/lvazquez/Documents/Repo_Cursos/CursoIntroPython_portfolio/Kata%20M%C3%B3dulo%2010%20-%20Manejo%20de%20errores/Kata%2010.ipynb#ch0000016?line=2'>3</a>\u001b[0m     daily_usage \u001b[39m=\u001b[39m astronauts \u001b[39m*\u001b[39m \u001b[39m11\u001b[39m\n\u001b[1;32m----> <a href='vscode-notebook-cell:/c%3A/Users/lvazquez/Documents/Repo_Cursos/CursoIntroPython_portfolio/Kata%20M%C3%B3dulo%2010%20-%20Manejo%20de%20errores/Kata%2010.ipynb#ch0000016?line=3'>4</a>\u001b[0m     total_usage \u001b[39m=\u001b[39m daily_usage \u001b[39m*\u001b[39;49m days_left\n\u001b[0;32m      <a href='vscode-notebook-cell:/c%3A/Users/lvazquez/Documents/Repo_Cursos/CursoIntroPython_portfolio/Kata%20M%C3%B3dulo%2010%20-%20Manejo%20de%20errores/Kata%2010.ipynb#ch0000016?line=4'>5</a>\u001b[0m     total_water_left \u001b[39m=\u001b[39m water_left \u001b[39m-\u001b[39m total_usage\n\u001b[0;32m      <a href='vscode-notebook-cell:/c%3A/Users/lvazquez/Documents/Repo_Cursos/CursoIntroPython_portfolio/Kata%20M%C3%B3dulo%2010%20-%20Manejo%20de%20errores/Kata%2010.ipynb#ch0000016?line=5'>6</a>\u001b[0m     \u001b[39mif\u001b[39;00m total_water_left \u001b[39m<\u001b[39m \u001b[39m0\u001b[39m:\n",
      "\u001b[1;31mTypeError\u001b[0m: can't multiply sequence by non-int of type 'NoneType'"
     ]
    }
   ],
   "source": [
    "# Probar con tipos de datos no permitidos\n",
    "water_left(\"5\", \"100\", None)"
   ]
  },
  {
   "cell_type": "code",
   "execution_count": 20,
   "metadata": {},
   "outputs": [],
   "source": [
    "# Mejora en el mensaje para el error \"TypeError\"\n",
    "def water_left(astronauts, water_left, days_left):\n",
    "    for argument in [astronauts, water_left, days_left]:\n",
    "        try:\n",
    "            # If argument is an int, the following operation will work\n",
    "            argument / 10\n",
    "        except TypeError:\n",
    "            # TypError will be raised only if it isn't the right type \n",
    "            # Raise the same exception but with a better error message\n",
    "            raise TypeError(f\"All arguments must be of type int, but received: '{argument}'\")\n",
    "    daily_usage = astronauts * 11\n",
    "    total_usage = daily_usage * days_left\n",
    "    total_water_left = water_left - total_usage\n",
    "    if total_water_left < 0:\n",
    "        raise RuntimeError(f\"There is not enough water for {astronauts} astronauts after {days_left} days!\")\n",
    "    return f\"Total water left after {days_left} days is: {total_water_left} liters\""
   ]
  },
  {
   "cell_type": "code",
   "execution_count": 21,
   "metadata": {},
   "outputs": [
    {
     "ename": "TypeError",
     "evalue": "All arguments must be of type int, but received: '5'",
     "output_type": "error",
     "traceback": [
      "\u001b[1;31m---------------------------------------------------------------------------\u001b[0m",
      "\u001b[1;31mTypeError\u001b[0m                                 Traceback (most recent call last)",
      "\u001b[1;32mc:\\Users\\lvazquez\\Documents\\Repo_Cursos\\CursoIntroPython_portfolio\\Kata Módulo 10 - Manejo de errores\\Kata 10.ipynb Cell 19'\u001b[0m in \u001b[0;36mwater_left\u001b[1;34m(astronauts, water_left, days_left)\u001b[0m\n\u001b[0;32m      <a href='vscode-notebook-cell:/c%3A/Users/lvazquez/Documents/Repo_Cursos/CursoIntroPython_portfolio/Kata%20M%C3%B3dulo%2010%20-%20Manejo%20de%20errores/Kata%2010.ipynb#ch0000020?line=3'>4</a>\u001b[0m \u001b[39mtry\u001b[39;00m:\n\u001b[0;32m      <a href='vscode-notebook-cell:/c%3A/Users/lvazquez/Documents/Repo_Cursos/CursoIntroPython_portfolio/Kata%20M%C3%B3dulo%2010%20-%20Manejo%20de%20errores/Kata%2010.ipynb#ch0000020?line=4'>5</a>\u001b[0m     \u001b[39m# If argument is an int, the following operation will work\u001b[39;00m\n\u001b[1;32m----> <a href='vscode-notebook-cell:/c%3A/Users/lvazquez/Documents/Repo_Cursos/CursoIntroPython_portfolio/Kata%20M%C3%B3dulo%2010%20-%20Manejo%20de%20errores/Kata%2010.ipynb#ch0000020?line=5'>6</a>\u001b[0m     argument \u001b[39m/\u001b[39;49m \u001b[39m10\u001b[39;49m\n\u001b[0;32m      <a href='vscode-notebook-cell:/c%3A/Users/lvazquez/Documents/Repo_Cursos/CursoIntroPython_portfolio/Kata%20M%C3%B3dulo%2010%20-%20Manejo%20de%20errores/Kata%2010.ipynb#ch0000020?line=6'>7</a>\u001b[0m \u001b[39mexcept\u001b[39;00m \u001b[39mTypeError\u001b[39;00m:\n\u001b[0;32m      <a href='vscode-notebook-cell:/c%3A/Users/lvazquez/Documents/Repo_Cursos/CursoIntroPython_portfolio/Kata%20M%C3%B3dulo%2010%20-%20Manejo%20de%20errores/Kata%2010.ipynb#ch0000020?line=7'>8</a>\u001b[0m     \u001b[39m# TypError will be raised only if it isn't the right type \u001b[39;00m\n\u001b[0;32m      <a href='vscode-notebook-cell:/c%3A/Users/lvazquez/Documents/Repo_Cursos/CursoIntroPython_portfolio/Kata%20M%C3%B3dulo%2010%20-%20Manejo%20de%20errores/Kata%2010.ipynb#ch0000020?line=8'>9</a>\u001b[0m     \u001b[39m# Raise the same exception but with a better error message\u001b[39;00m\n",
      "\u001b[1;31mTypeError\u001b[0m: unsupported operand type(s) for /: 'str' and 'int'",
      "\nDuring handling of the above exception, another exception occurred:\n",
      "\u001b[1;31mTypeError\u001b[0m                                 Traceback (most recent call last)",
      "\u001b[1;32mc:\\Users\\lvazquez\\Documents\\Repo_Cursos\\CursoIntroPython_portfolio\\Kata Módulo 10 - Manejo de errores\\Kata 10.ipynb Cell 20'\u001b[0m in \u001b[0;36m<module>\u001b[1;34m\u001b[0m\n\u001b[1;32m----> <a href='vscode-notebook-cell:/c%3A/Users/lvazquez/Documents/Repo_Cursos/CursoIntroPython_portfolio/Kata%20M%C3%B3dulo%2010%20-%20Manejo%20de%20errores/Kata%2010.ipynb#ch0000022?line=0'>1</a>\u001b[0m water_left(\u001b[39m\"\u001b[39;49m\u001b[39m5\u001b[39;49m\u001b[39m\"\u001b[39;49m, \u001b[39m\"\u001b[39;49m\u001b[39m100\u001b[39;49m\u001b[39m\"\u001b[39;49m, \u001b[39mNone\u001b[39;49;00m)\n",
      "\u001b[1;32mc:\\Users\\lvazquez\\Documents\\Repo_Cursos\\CursoIntroPython_portfolio\\Kata Módulo 10 - Manejo de errores\\Kata 10.ipynb Cell 19'\u001b[0m in \u001b[0;36mwater_left\u001b[1;34m(astronauts, water_left, days_left)\u001b[0m\n\u001b[0;32m      <a href='vscode-notebook-cell:/c%3A/Users/lvazquez/Documents/Repo_Cursos/CursoIntroPython_portfolio/Kata%20M%C3%B3dulo%2010%20-%20Manejo%20de%20errores/Kata%2010.ipynb#ch0000020?line=5'>6</a>\u001b[0m         argument \u001b[39m/\u001b[39m \u001b[39m10\u001b[39m\n\u001b[0;32m      <a href='vscode-notebook-cell:/c%3A/Users/lvazquez/Documents/Repo_Cursos/CursoIntroPython_portfolio/Kata%20M%C3%B3dulo%2010%20-%20Manejo%20de%20errores/Kata%2010.ipynb#ch0000020?line=6'>7</a>\u001b[0m     \u001b[39mexcept\u001b[39;00m \u001b[39mTypeError\u001b[39;00m:\n\u001b[0;32m      <a href='vscode-notebook-cell:/c%3A/Users/lvazquez/Documents/Repo_Cursos/CursoIntroPython_portfolio/Kata%20M%C3%B3dulo%2010%20-%20Manejo%20de%20errores/Kata%2010.ipynb#ch0000020?line=7'>8</a>\u001b[0m         \u001b[39m# TypError will be raised only if it isn't the right type \u001b[39;00m\n\u001b[0;32m      <a href='vscode-notebook-cell:/c%3A/Users/lvazquez/Documents/Repo_Cursos/CursoIntroPython_portfolio/Kata%20M%C3%B3dulo%2010%20-%20Manejo%20de%20errores/Kata%2010.ipynb#ch0000020?line=8'>9</a>\u001b[0m         \u001b[39m# Raise the same exception but with a better error message\u001b[39;00m\n\u001b[1;32m---> <a href='vscode-notebook-cell:/c%3A/Users/lvazquez/Documents/Repo_Cursos/CursoIntroPython_portfolio/Kata%20M%C3%B3dulo%2010%20-%20Manejo%20de%20errores/Kata%2010.ipynb#ch0000020?line=9'>10</a>\u001b[0m         \u001b[39mraise\u001b[39;00m \u001b[39mTypeError\u001b[39;00m(\u001b[39mf\u001b[39m\u001b[39m\"\u001b[39m\u001b[39mAll arguments must be of type int, but received: \u001b[39m\u001b[39m'\u001b[39m\u001b[39m{\u001b[39;00margument\u001b[39m}\u001b[39;00m\u001b[39m'\u001b[39m\u001b[39m\"\u001b[39m)\n\u001b[0;32m     <a href='vscode-notebook-cell:/c%3A/Users/lvazquez/Documents/Repo_Cursos/CursoIntroPython_portfolio/Kata%20M%C3%B3dulo%2010%20-%20Manejo%20de%20errores/Kata%2010.ipynb#ch0000020?line=10'>11</a>\u001b[0m daily_usage \u001b[39m=\u001b[39m astronauts \u001b[39m*\u001b[39m \u001b[39m11\u001b[39m\n\u001b[0;32m     <a href='vscode-notebook-cell:/c%3A/Users/lvazquez/Documents/Repo_Cursos/CursoIntroPython_portfolio/Kata%20M%C3%B3dulo%2010%20-%20Manejo%20de%20errores/Kata%2010.ipynb#ch0000020?line=11'>12</a>\u001b[0m total_usage \u001b[39m=\u001b[39m daily_usage \u001b[39m*\u001b[39m days_left\n",
      "\u001b[1;31mTypeError\u001b[0m: All arguments must be of type int, but received: '5'"
     ]
    }
   ],
   "source": [
    "water_left(\"5\", \"100\", None)"
   ]
  }
 ],
 "metadata": {
  "interpreter": {
   "hash": "b857dc7835b0d65e9c958c7985935f7ab3e2a66a892ffc379b26952c5148875e"
  },
  "kernelspec": {
   "display_name": "Python 3.8.10 64-bit",
   "language": "python",
   "name": "python3"
  },
  "language_info": {
   "codemirror_mode": {
    "name": "ipython",
    "version": 3
   },
   "file_extension": ".py",
   "mimetype": "text/x-python",
   "name": "python",
   "nbconvert_exporter": "python",
   "pygments_lexer": "ipython3",
   "version": "3.8.10"
  },
  "orig_nbformat": 4
 },
 "nbformat": 4,
 "nbformat_minor": 2
}
